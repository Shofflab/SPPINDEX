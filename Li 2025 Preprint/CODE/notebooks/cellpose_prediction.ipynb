{
 "cells": [
  {
   "cell_type": "code",
   "execution_count": null,
   "metadata": {},
   "outputs": [],
   "source": [
    "from pathlib import Path\n",
    "\n",
    "import numpy as np\n",
    "import torch\n",
    "from cellpose import io, models, plot, utils\n",
    "from matplotlib import pyplot as plt\n",
    "from tifffile import imread, imwrite\n",
    "from tqdm import tqdm"
   ]
  },
  {
   "cell_type": "code",
   "execution_count": null,
   "metadata": {},
   "outputs": [],
   "source": [
    "# check gpu\n",
    "use_gpu = torch.cuda.is_available()\n",
    "print(use_gpu)"
   ]
  },
  {
   "cell_type": "markdown",
   "metadata": {},
   "source": [
    "## Load Data"
   ]
  },
  {
   "cell_type": "code",
   "execution_count": null,
   "metadata": {},
   "outputs": [],
   "source": [
    "data_dir = Path(\"../data\")\n",
    "data_folders = sorted([f for f in data_dir.iterdir() if f.is_dir()])\n",
    "\n",
    "print(\"Found the following folders:\")\n",
    "for folder in data_folders:\n",
    "    print(folder.stem)"
   ]
  },
  {
   "cell_type": "markdown",
   "metadata": {},
   "source": [
    "## Check Channel"
   ]
  },
  {
   "cell_type": "code",
   "execution_count": null,
   "metadata": {},
   "outputs": [],
   "source": [
    "example_img = list(data_folders[0].glob(\"*.png\"))[0]\n",
    "example_data = io.imread(example_img)\n",
    "plt.imshow(example_data)"
   ]
  },
  {
   "cell_type": "markdown",
   "metadata": {},
   "source": [
    "## Run Prediction"
   ]
  },
  {
   "cell_type": "code",
   "execution_count": null,
   "metadata": {},
   "outputs": [],
   "source": [
    "# load my model\n",
    "model = models.CellposeModel(\n",
    "    gpu=True,\n",
    "    pretrained_model=\"../models/Chronic_LSL_NeuN_Final\",\n",
    ")\n",
    "diameter = model.diam_labels\n",
    "chan = [2, 0]  # 2 for green"
   ]
  },
  {
   "cell_type": "code",
   "execution_count": null,
   "metadata": {},
   "outputs": [],
   "source": [
    "output_dir = Path(\"../output\")\n",
    "output_dir.mkdir(exist_ok=True)\n",
    "\n",
    "for folder in data_folders:\n",
    "    print(f\"Processing {folder.stem}\")\n",
    "    group_dir = output_dir / folder.stem\n",
    "    group_dir.mkdir(exist_ok=True)\n",
    "\n",
    "    preview_dir = group_dir / \"preview\"\n",
    "    preview_dir.mkdir(exist_ok=True)\n",
    "    mask_dir = group_dir / \"mask\"\n",
    "    mask_dir.mkdir(exist_ok=True)\n",
    "\n",
    "    img_list = sorted(folder.glob(\"*.png\"))\n",
    "\n",
    "    for img_path in tqdm(img_list):\n",
    "        img = io.imread(img_path)\n",
    "        masks, flows, styles = model.eval(img, diameter=diameter, channels=[2, 0])\n",
    "\n",
    "        # save masks\n",
    "        imwrite(str(mask_dir / img_path.stem) + \"_masks.tif\", masks, compression=\"zlib\")\n",
    "\n",
    "        # save an mask overlaid image\n",
    "        plt.imshow(img)\n",
    "        plt.imshow(masks != 0, alpha=0.5)\n",
    "        plt.axis(\"off\")\n",
    "        plt.savefig(\n",
    "            str(preview_dir / img_path.stem) + \"_preview.png\",\n",
    "            dpi=600,\n",
    "            bbox_inches=\"tight\",\n",
    "            pad_inches=0,\n",
    "        )\n",
    "        plt.close()\n"
   ]
  },
  {
   "cell_type": "code",
   "execution_count": null,
   "metadata": {},
   "outputs": [],
   "source": []
  }
 ],
 "metadata": {
  "kernelspec": {
   "display_name": "cellpose",
   "language": "python",
   "name": "python3"
  },
  "language_info": {
   "codemirror_mode": {
    "name": "ipython",
    "version": 3
   },
   "file_extension": ".py",
   "mimetype": "text/x-python",
   "name": "python",
   "nbconvert_exporter": "python",
   "pygments_lexer": "ipython3",
   "version": "3.10.14"
  }
 },
 "nbformat": 4,
 "nbformat_minor": 2
}
